{
 "cells": [
  {
   "cell_type": "markdown",
   "metadata": {},
   "source": [
    "# ***-1-Importing the recommended libraries***"
   ]
  },
  {
   "cell_type": "code",
   "execution_count": 10,
   "metadata": {},
   "outputs": [],
   "source": [
    "import numpy as np \n",
    "from pandas import DataFrame as df\n",
    "from binarytree import Node\n",
    "import scipy\n",
    "Letters=\"ACGT-\" # required for owr operations"
   ]
  },
  {
   "cell_type": "markdown",
   "metadata": {},
   "source": [
    "# ***-2-Create the recommended functions***"
   ]
  },
  {
   "cell_type": "markdown",
   "metadata": {},
   "source": [
    "#"
   ]
  },
  {
   "cell_type": "markdown",
   "metadata": {},
   "source": [
    "### **->Test sequences function** "
   ]
  },
  {
   "cell_type": "code",
   "execution_count": 11,
   "metadata": {},
   "outputs": [],
   "source": [
    "def test(seqs):\n",
    "    seq_length = len(seqs[0])\n",
    "    if not all(len(seq) == seq_length for seq in seqs):\n",
    "        raise ValueError(\"Input sequences must be have the same length\")\n",
    "    elif len(seqs)<2:\n",
    "        raise ValueError(\"The input sequences  must be need to add more  \")\n"
   ]
  },
  {
   "cell_type": "markdown",
   "metadata": {},
   "source": [
    "# ***->generate_count_matrix***"
   ]
  },
  {
   "cell_type": "code",
   "execution_count": 12,
   "metadata": {},
   "outputs": [],
   "source": [
    "def generate_count_matrix(sequences=[\"AC-GT\", \"AC-GT\", \"GC-AT\"]):\n",
    "    # Check that all sequences have the same length\n",
    "    seq_length = len(sequences[0])\n",
    "    test(sequences)\n",
    "    # Initialize count matrix with zeros\n",
    "    count_matrix = {letter: [0] * seq_length for letter in Letters}\n",
    "    # Update count matrix based on aligned sequences\n",
    "    for i in range(seq_length):\n",
    "        column = [seq[i] for seq in sequences]\n",
    "        for letter in \"ACGT-\":\n",
    "            count_matrix[letter][i] = column.count(letter)/len(column)\n",
    "    return count_matrix"
   ]
  },
  {
   "cell_type": "markdown",
   "metadata": {},
   "source": [
    "#   -> ***test if its transition or neither***"
   ]
  },
  {
   "cell_type": "code",
   "execution_count": 13,
   "metadata": {},
   "outputs": [],
   "source": [
    "def is_transition(n_1, n_2): # n:nucleotide\n",
    "    purines = {'A', 'G'} # for purines transition\n",
    "    pyrimidines = {'C', 'T'} #  for pyrimidines transition\n",
    "    test=lambda a,b,c:(a in c) and (b in c)\n",
    "    return (test(n_1,n_2,purines)) or (test(n_1,n_2, pyrimidines))"
   ]
  },
  {
   "cell_type": "markdown",
   "metadata": {},
   "source": [
    "### -> **calculate_score (Note :  the values are from the course , see the Readme file)**"
   ]
  },
  {
   "cell_type": "code",
   "execution_count": 14,
   "metadata": {},
   "outputs": [],
   "source": [
    "def calculate_score(item, index,count_matrix):\n",
    "    \n",
    "    # from the course\n",
    "    \n",
    "    MNuc = 2 # une correspondence impliquant deux nucléotides identiques\n",
    "    \n",
    "    MGap = 1 #  une correspondance comprenant deux gaps\n",
    "    \n",
    "    MMs = 1 #  l'une impliquant une différence de transition\n",
    "    \n",
    "    MMv = -1 # l'autre une différence transversale\n",
    "    \n",
    "    gap_penalty = -3\n",
    "    current_score = 0\n",
    "\n",
    "    for letter, counts in count_matrix.items():\n",
    "        if letter == item:\n",
    "            if item == '-':  based_weight = MGap\n",
    "            else: based_weight = MNuc\n",
    "            \n",
    "        elif letter == '-' or item == '-':  based_weight=gap_penalty\n",
    "        \n",
    "        elif is_transition(letter,item):  based_weight=MMs\n",
    "        \n",
    "        else:  based_weight=MMv\n",
    "        \n",
    "        current_score += counts[index] * based_weight\n",
    "\n",
    "    return current_score\n"
   ]
  },
  {
   "cell_type": "markdown",
   "metadata": {},
   "source": [
    "# **->Profile generation**"
   ]
  },
  {
   "cell_type": "code",
   "execution_count": 15,
   "metadata": {},
   "outputs": [],
   "source": [
    "def Profile(aligned_sequences, seq_T = \"ACG\"): \n",
    "    \"\"\"_summary_\n",
    "\n",
    "    Args:\n",
    "        aligned_sequences (list): aligned_sequences is the list of our sequences\n",
    "        seq_T (str, optional):Target Sequence. Defaults to \"ACG\".\n",
    "\n",
    "    Returns:\n",
    "        list: sequences_results\n",
    "    \"\"\"\n",
    "    m, n = len(seq_T), len(aligned_sequences[0])\n",
    "    # init a score matrix\n",
    "    score_matrix = [[0] * (n + 1) for _ in range(m + 1)] \n",
    "    gap_penalty = -3\n",
    "    # init a direction matrix\n",
    "    direction_matrix = [[''] * (n + 1) for _ in range(m + 1)]\n",
    "    mito=np.array(score_matrix)\n",
    "    show=lambda a:df(a,index=list(\"-\"+seq_T) , columns=[\"-\"]+[f\"C{i}\" for i in range(len(aligned_sequences[0]))])\n",
    "    \n",
    "    print(\"count_matrix :\")\n",
    "    count_matrix = generate_count_matrix(aligned_sequences)\n",
    "    # Print the count matrix\n",
    "    print(df(count_matrix.values(),index=count_matrix.keys() , columns=[f\"C{i}\" for i in range(len(aligned_sequences[0]))]))\n",
    "    diro=np.array(direction_matrix)\n",
    "    # print(df(diro))\n",
    "        # Initialize the first column of score_matrix and direction_matrix\n",
    "    for i in range(1, m + 1):\n",
    "        score_matrix[i][0] = score_matrix[i - 1][0] + gap_penalty\n",
    "        direction_matrix[i][0] = '↑'\n",
    "\n",
    "    # Initialize the first row of score_matrix and direction_matrix\n",
    "    for j in range(1, n + 1):\n",
    "        score_matrix[0][j] = score_matrix[0][j - 1] + gap_penalty\n",
    "        direction_matrix[0][j] = '←'\n",
    "\n",
    "    for i in range(1, m + 1):\n",
    "        for j in range(1, n + 1):\n",
    "\n",
    "            delete = score_matrix[i - 1][j] + calculate_score('-', j - 1,count_matrix)\n",
    "            insert = score_matrix[i][j - 1] + calculate_score('-', j - 1,count_matrix)\n",
    "\n",
    "            match = score_matrix[i - 1][j - 1] + calculate_score(seq_T[i - 1], j - 1,count_matrix)\n",
    "\n",
    "            max_score = max(match, delete, insert)\n",
    "\n",
    "            score_matrix[i][j] = max_score\n",
    "            if max_score == match:\n",
    "                direction_matrix[i][j] += '↖'\n",
    "            if max_score == delete:\n",
    "                direction_matrix[i][j] += '↑'\n",
    "            if max_score == insert:\n",
    "                direction_matrix[i][j] += '←'\n",
    "    print(\"Score Matrix:\")\n",
    "    mito=np.array(score_matrix)\n",
    "    print(show(mito))\n",
    "\n",
    "\n",
    "    print(\"\\nDirection Matrix:\")\n",
    "    diro=np.array(direction_matrix)\n",
    "    print(show(diro))\n",
    "\n",
    "    sequences_results = []\n",
    "\n",
    "    def backward(i, j, seq_align):\n",
    "        # global all_alignments\n",
    "\n",
    "        if i == 0 and j == 0:\n",
    "            sequences_results.append(seq_align[::-1])\n",
    "            return\n",
    "\n",
    "        if '↖' in direction_matrix[i][j]:\n",
    "            backward(i - 1, j - 1, seq_align + seq_T[i - 1])\n",
    "        if '↑' in direction_matrix[i][j]:\n",
    "            backward(i - 1, j, seq_align + '-')\n",
    "        if '←' in direction_matrix[i][j]:\n",
    "            backward(i, j - 1, seq_align + '-')\n",
    "\n",
    "    backward(m, n, '')\n",
    "\n",
    "    return sequences_results\n",
    "\n"
   ]
  },
  {
   "cell_type": "code",
   "execution_count": null,
   "metadata": {},
   "outputs": [],
   "source": []
  },
  {
   "cell_type": "markdown",
   "metadata": {},
   "source": [
    "# ***Example usage***"
   ]
  },
  {
   "cell_type": "code",
   "execution_count": 16,
   "metadata": {},
   "outputs": [
    {
     "name": "stdout",
     "output_type": "stream",
     "text": [
      "count_matrix :\n",
      "         C0   C1        C2        C3   C4\n",
      "A  0.666667  0.0  0.000000  0.333333  0.0\n",
      "C  0.000000  1.0  0.333333  0.000000  0.0\n",
      "G  0.333333  0.0  0.000000  0.666667  0.0\n",
      "T  0.000000  0.0  0.000000  0.000000  1.0\n",
      "-  0.000000  0.0  0.666667  0.000000  0.0\n",
      "Score Matrix:\n",
      "     -        C0        C1        C2         C3         C4\n",
      "-  0.0 -3.000000 -6.000000 -9.000000 -12.000000 -15.000000\n",
      "A -3.0  1.666667 -1.333333 -1.666667  -4.666667  -7.666667\n",
      "C -6.0 -1.333333  3.666667  3.333333   0.333333  -2.666667\n",
      "G -9.0 -4.333333  0.666667  3.000000   5.000000   2.000000\n",
      "\n",
      "Direction Matrix:\n",
      "   - C0 C1 C2 C3 C4\n",
      "-     ←  ←  ←  ←  ←\n",
      "A  ↑  ↖  ←  ←  ←  ←\n",
      "C  ↑  ↑  ↖  ←  ←  ←\n",
      "G  ↑  ↑  ↑  ↑  ↖  ←\n",
      "Aligned_result :\n",
      "AC-GT\n",
      "AC-GT\n",
      "GCCAT\n",
      "['AC-G-']\n"
     ]
    }
   ],
   "source": [
    "# Example usage:\n",
    "aligned_sequences = [\"AC-GT\", \"AC-GT\", \"GCCAT\"]\n",
    "# print(\"count_matrix :\")\n",
    "count_matrix = generate_count_matrix(aligned_sequences)\n",
    "# Print the count matrix\n",
    "# print(df(count_matrix.values(),index=count_matrix.keys() , columns=[f\"C{i}\" for i in range(len(aligned_sequences[0]))]))\n",
    "# aligned_sequences = [\"AC-GT\", \"AG-CT\", \"GCCAT\",\"AATCG\"]\n",
    "T = \"ACG\"\n",
    "aligned_result = Profile(aligned_sequences, )\n",
    "print(\"Aligned_result :\")\n",
    "for r in aligned_sequences:\n",
    "    print(r)\n",
    "print(aligned_result)"
   ]
  }
 ],
 "metadata": {
  "kernelspec": {
   "display_name": "Python 3",
   "language": "python",
   "name": "python3"
  },
  "language_info": {
   "codemirror_mode": {
    "name": "ipython",
    "version": 3
   },
   "file_extension": ".py",
   "mimetype": "text/x-python",
   "name": "python",
   "nbconvert_exporter": "python",
   "pygments_lexer": "ipython3",
   "version": "3.12.0"
  }
 },
 "nbformat": 4,
 "nbformat_minor": 2
}
